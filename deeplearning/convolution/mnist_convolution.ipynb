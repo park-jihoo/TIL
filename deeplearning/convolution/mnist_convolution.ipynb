{
 "cells": [
  {
   "cell_type": "code",
   "execution_count": null,
   "outputs": [],
   "source": [
    "import os\n",
    "import numpy as np\n",
    "import tensorflow as tf\n",
    "from tensorflow import keras"
   ],
   "metadata": {
    "collapsed": false,
    "pycharm": {
     "name": "#%%\n"
    }
   }
  },
  {
   "cell_type": "code",
   "execution_count": 2,
   "outputs": [],
   "source": [
    "current_dir = os.getcwd()\n",
    "(training_images, training_labels), _ = tf.keras.datasets.mnist.load_data()"
   ],
   "metadata": {
    "collapsed": false,
    "pycharm": {
     "name": "#%%\n"
    }
   }
  },
  {
   "cell_type": "code",
   "execution_count": 9,
   "outputs": [],
   "source": [
    "def reshape_and_normalized(images):\n",
    "    images = images.reshape(60000, 28, 28, 1)\n",
    "\n",
    "    images = images / 255.0\n",
    "\n",
    "    return images"
   ],
   "metadata": {
    "collapsed": false,
    "pycharm": {
     "name": "#%%\n"
    }
   }
  },
  {
   "cell_type": "code",
   "execution_count": 10,
   "outputs": [
    {
     "name": "stdout",
     "output_type": "stream",
     "text": [
      "Maximum pixel value: 0.00392156862745098\n",
      "Shape of training image: (60000, 28, 28, 1)\n",
      "Shape of one training image: (28, 28, 1)\n"
     ]
    }
   ],
   "source": [
    "training_images = reshape_and_normalized(training_images)\n",
    "\n",
    "print(f\"Maximum pixel value: {np.max(training_images)}\")\n",
    "print(f\"Shape of training image: {training_images.shape}\")\n",
    "print(f\"Shape of one training image: {training_images[0].shape}\")"
   ],
   "metadata": {
    "collapsed": false,
    "pycharm": {
     "name": "#%%\n"
    }
   }
  },
  {
   "cell_type": "code",
   "execution_count": 11,
   "outputs": [],
   "source": [
    "class myCallback(keras.callbacks.Callback):\n",
    "    def on_epoch_end(self, epoch, logs=None):\n",
    "        if logs.get('accuracy') is not None and logs.get('accuracy') > 0.995:\n",
    "            print(\"\\nReached 99.5% accuracy\")\n",
    "            self.model.stop_training = True"
   ],
   "metadata": {
    "collapsed": false,
    "pycharm": {
     "name": "#%%\n"
    }
   }
  },
  {
   "cell_type": "code",
   "execution_count": 12,
   "outputs": [],
   "source": [
    "def convolution_model():\n",
    "    model = tf.keras.models.Sequential([\n",
    "        tf.keras.layers.Conv2D(32, kernel_size=(3, 3), activation = 'relu', input_shape = (28, 28, 1)),\n",
    "        tf.keras.layers.MaxPooling2D(2,2),\n",
    "        tf.keras.layers.Flatten(),\n",
    "        tf.keras.layers.Dense(128, activation=\"relu\"),\n",
    "        tf.keras.layers.Dense(10, activation=\"softmax\")\n",
    "    ])\n",
    "\n",
    "    model.compile(optimizer='adam', loss='sparse_categorical_crossentropy', metrics=['accuracy'])\n",
    "    return model"
   ],
   "metadata": {
    "collapsed": false,
    "pycharm": {
     "name": "#%%\n"
    }
   }
  },
  {
   "cell_type": "code",
   "execution_count": 14,
   "outputs": [
    {
     "name": "stdout",
     "output_type": "stream",
     "text": [
      "Epoch 1/10\n",
      "1875/1875 [==============================] - 28s 14ms/step - loss: 0.9821 - accuracy: 0.7120\n",
      "Epoch 2/10\n",
      "1875/1875 [==============================] - 27s 14ms/step - loss: 0.3771 - accuracy: 0.8896\n",
      "Epoch 3/10\n",
      "1875/1875 [==============================] - 25s 14ms/step - loss: 0.3216 - accuracy: 0.9047\n",
      "Epoch 4/10\n",
      "1875/1875 [==============================] - 27s 14ms/step - loss: 0.2881 - accuracy: 0.9150\n",
      "Epoch 5/10\n",
      "1875/1875 [==============================] - 25s 13ms/step - loss: 0.2598 - accuracy: 0.9238\n",
      "Epoch 6/10\n",
      "1875/1875 [==============================] - 28s 15ms/step - loss: 0.2332 - accuracy: 0.9311\n",
      "Epoch 7/10\n",
      "1875/1875 [==============================] - 28s 15ms/step - loss: 0.2082 - accuracy: 0.9380\n",
      "Epoch 8/10\n",
      "1875/1875 [==============================] - 26s 14ms/step - loss: 0.1858 - accuracy: 0.9451\n",
      "Epoch 9/10\n",
      "1875/1875 [==============================] - 25s 13ms/step - loss: 0.1688 - accuracy: 0.9499\n",
      "Epoch 10/10\n",
      "1875/1875 [==============================] - 25s 13ms/step - loss: 0.1543 - accuracy: 0.9538\n",
      "Model was trained for 10 epochs\n"
     ]
    }
   ],
   "source": [
    "model = convolution_model()\n",
    "callbacks = myCallback()\n",
    "history = model.fit(training_images, training_labels, epochs=10, callbacks=callbacks)\n",
    "\n",
    "print(f\"Model was trained for {len(history.epoch)} epochs\")"
   ],
   "metadata": {
    "collapsed": false,
    "pycharm": {
     "name": "#%%\n"
    }
   }
  }
 ],
 "metadata": {
  "kernelspec": {
   "display_name": "Python 3",
   "language": "python",
   "name": "python3"
  },
  "language_info": {
   "codemirror_mode": {
    "name": "ipython",
    "version": 2
   },
   "file_extension": ".py",
   "mimetype": "text/x-python",
   "name": "python",
   "nbconvert_exporter": "python",
   "pygments_lexer": "ipython2",
   "version": "2.7.6"
  }
 },
 "nbformat": 4,
 "nbformat_minor": 0
}